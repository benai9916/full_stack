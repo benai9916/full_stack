{
 "cells": [
  {
   "cell_type": "code",
   "execution_count": 323,
   "id": "a01951ca-0593-4644-a4d1-d05fe3bdb5b4",
   "metadata": {},
   "outputs": [],
   "source": [
    "import json\n",
    "import time\n",
    "import pandas as pd\n",
    "from seleniumwire.utils import decode\n",
    "from seleniumwire import webdriver\n",
    "from webdriver_manager.chrome import ChromeDriverManager"
   ]
  },
  {
   "cell_type": "code",
   "execution_count": 330,
   "id": "76a2c4ce-1129-41c2-87ae-b273b758dd1b",
   "metadata": {},
   "outputs": [],
   "source": [
    "def load():\n",
    "    options = {'disable_encoding': True}\n",
    "\n",
    "    # Create a new instance of the Chrome driver\n",
    "    driver = webdriver.Chrome(ChromeDriverManager().install(),seleniumwire_options=options )\n",
    "\n",
    "    # Go to the Google home page\n",
    "    driver.get(\"https://food.grab.com/ph/en/\")\n",
    "    return driver"
   ]
  },
  {
   "cell_type": "code",
   "execution_count": 332,
   "id": "39853b45-927e-4161-820f-bb54277dbcca",
   "metadata": {},
   "outputs": [
    {
     "name": "stderr",
     "output_type": "stream",
     "text": [
      "\n",
      "\n",
      "====== WebDriver manager ======\n",
      "Current google-chrome version is 96.0.4664\n",
      "Get LATEST chromedriver version for 96.0.4664 google-chrome\n",
      "Driver [/Users/benai/.wdm/drivers/chromedriver/mac64/96.0.4664.45/chromedriver] found in cache\n"
     ]
    }
   ],
   "source": [
    "driver = load()"
   ]
  },
  {
   "cell_type": "code",
   "execution_count": 333,
   "id": "cd8444e6-5529-4f94-8792-10aed5b67309",
   "metadata": {},
   "outputs": [
    {
     "data": {
      "text/plain": [
       "<seleniumwire.webdriver.Chrome (session=\"2263575e2f1058affa33fdccc7a50e68\")>"
      ]
     },
     "execution_count": 333,
     "metadata": {},
     "output_type": "execute_result"
    }
   ],
   "source": [
    "driver"
   ]
  },
  {
   "cell_type": "code",
   "execution_count": 334,
   "id": "b5da8009-0aa1-4a67-a28e-c0e3a455f55f",
   "metadata": {},
   "outputs": [],
   "source": [
    "def load_more(driver):\n",
    "    return driver.find_element_by_css_selector(\"button.ant-btn\").click()"
   ]
  },
  {
   "cell_type": "code",
   "execution_count": 335,
   "id": "54795f75-4500-4393-a2ed-e8186aa9906b",
   "metadata": {},
   "outputs": [
    {
     "name": "stderr",
     "output_type": "stream",
     "text": [
      "/var/folders/vy/z7v06lns2sqbyp09f_kg__j00000gn/T/ipykernel_72457/1415324294.py:1: DeprecationWarning: find_element_by_* commands are deprecated. Please use find_element() instead\n",
      "  input_id = driver.find_element_by_id(\"location-input\").send_keys(\"pasay\")\n",
      "/var/folders/vy/z7v06lns2sqbyp09f_kg__j00000gn/T/ipykernel_72457/2217644237.py:2: DeprecationWarning: find_element_by_* commands are deprecated. Please use find_element() instead\n",
      "  return driver.find_element_by_css_selector(\"button.ant-btn\").click()\n"
     ]
    }
   ],
   "source": [
    "input_id = driver.find_element_by_id(\"location-input\").send_keys(\"pasay\")\n",
    "load_more(driver)"
   ]
  },
  {
   "cell_type": "code",
   "execution_count": 336,
   "id": "983147d8-32df-44fd-bc21-021685e82274",
   "metadata": {},
   "outputs": [],
   "source": [
    "main_df = pd.DataFrame()"
   ]
  },
  {
   "cell_type": "code",
   "execution_count": 337,
   "id": "c251fc63-2f19-4d1b-92b1-4bc1dc2dd70d",
   "metadata": {},
   "outputs": [],
   "source": [
    "def get_body(request):\n",
    "    response = request.response\n",
    "    body_byte = decode(response.body, response.headers.get('Content-Encoding', 'identity'))\n",
    "    body_dict = json.loads(body_byte.decode(\"utf-8\"))\n",
    "    return body_dict"
   ]
  },
  {
   "cell_type": "code",
   "execution_count": 342,
   "id": "d0a12c97-c27d-4784-9c1c-f0b717b1682a",
   "metadata": {},
   "outputs": [],
   "source": [
    "def get_popular_restaurant_latlng(popular_restaurants):\n",
    "    body = get_body(popular_restaurants)\n",
    "    \n",
    "    name = []\n",
    "    lat = []\n",
    "    lng = []\n",
    "    \n",
    "    for i in range(len(body['recommendedMerchantGroups'][0]['recommendedMerchants'])):\n",
    "        lat.append(body['recommendedMerchantGroups'][0]['recommendedMerchants'][i]['latlng']['latitude'])\n",
    "        lng.append(body['recommendedMerchantGroups'][0]['recommendedMerchants'][i]['latlng']['longitude'])\n",
    "        name.append(body['recommendedMerchantGroups'][0]['recommendedMerchants'][i]['address']['name'])\n",
    "    \n",
    "    df = pd.DataFrame(list(zip(name, lat, lng)), columns=['Name','latitude','longitude'])\n",
    "    return df"
   ]
  },
  {
   "cell_type": "code",
   "execution_count": 295,
   "id": "254bcb34-6f31-4f21-9644-78816b000d64",
   "metadata": {},
   "outputs": [],
   "source": [
    "def get_restaurant_latlng(all_restaurants):\n",
    "    res_body = get_body(all_restaurants)\n",
    "    \n",
    "    name = []\n",
    "    lat = []\n",
    "    lng = []\n",
    "    \n",
    "    for i in range(len(res_body['searchResult']['searchMerchants'])):\n",
    "        lat.append(res_body['searchResult']['searchMerchants'][i]['latlng']['latitude'])\n",
    "        lng.append(res_body['searchResult']['searchMerchants'][i]['latlng']['longitude'])\n",
    "        name.append(res_body['searchResult']['searchMerchants'][i]['address']['name'])\n",
    "    \n",
    "    df = pd.DataFrame(list(zip(name, lat, lng)), columns=['Name','latitude','longitude'])\n",
    "    return df"
   ]
  },
  {
   "cell_type": "code",
   "execution_count": 339,
   "id": "54157f90-8d8d-4a13-bc93-f3362b940cdd",
   "metadata": {},
   "outputs": [],
   "source": [
    "all_restaurants = driver.wait_for_request('/foodweb/v2/search')\n",
    "popular_restaurants = driver.wait_for_request('https://portal.grab.com/foodweb/v2/recommended/merchants')"
   ]
  },
  {
   "cell_type": "code",
   "execution_count": null,
   "id": "d723a29d-ffe9-4d05-8c78-63657a96db31",
   "metadata": {},
   "outputs": [],
   "source": []
  },
  {
   "cell_type": "code",
   "execution_count": 343,
   "id": "a892d4dc-a373-4166-85f5-a1b574ae54d0",
   "metadata": {},
   "outputs": [],
   "source": [
    "main_df = main_df.append(get_popular_restaurant_latlng(popular_restaurants))"
   ]
  },
  {
   "cell_type": "code",
   "execution_count": 344,
   "id": "bf6a2324-984c-4706-8e87-fb9b71e94efd",
   "metadata": {},
   "outputs": [
    {
     "data": {
      "text/html": [
       "<div>\n",
       "<style scoped>\n",
       "    .dataframe tbody tr th:only-of-type {\n",
       "        vertical-align: middle;\n",
       "    }\n",
       "\n",
       "    .dataframe tbody tr th {\n",
       "        vertical-align: top;\n",
       "    }\n",
       "\n",
       "    .dataframe thead th {\n",
       "        text-align: right;\n",
       "    }\n",
       "</style>\n",
       "<table border=\"1\" class=\"dataframe\">\n",
       "  <thead>\n",
       "    <tr style=\"text-align: right;\">\n",
       "      <th></th>\n",
       "      <th>Name</th>\n",
       "      <th>latitude</th>\n",
       "      <th>longitude</th>\n",
       "    </tr>\n",
       "  </thead>\n",
       "  <tbody>\n",
       "    <tr>\n",
       "      <th>0</th>\n",
       "      <td>Jollibee - Welcome Rotonda</td>\n",
       "      <td>14.618119</td>\n",
       "      <td>121.001749</td>\n",
       "    </tr>\n",
       "    <tr>\n",
       "      <th>1</th>\n",
       "      <td>McDonald's - Sunmall Welcome Rotonda</td>\n",
       "      <td>14.617999</td>\n",
       "      <td>121.001393</td>\n",
       "    </tr>\n",
       "    <tr>\n",
       "      <th>2</th>\n",
       "      <td>Starbucks - Pacific Suites Dapitan</td>\n",
       "      <td>14.610519</td>\n",
       "      <td>120.986964</td>\n",
       "    </tr>\n",
       "    <tr>\n",
       "      <th>3</th>\n",
       "      <td>Burger King - Welcome Rotonda</td>\n",
       "      <td>14.618641</td>\n",
       "      <td>121.002216</td>\n",
       "    </tr>\n",
       "    <tr>\n",
       "      <th>4</th>\n",
       "      <td>Subway - UST Campus [Available for LONG-DISTAN...</td>\n",
       "      <td>14.610538</td>\n",
       "      <td>120.990252</td>\n",
       "    </tr>\n",
       "    <tr>\n",
       "      <th>5</th>\n",
       "      <td>Tim Hortons - SM San Lazaro</td>\n",
       "      <td>14.619296</td>\n",
       "      <td>120.985358</td>\n",
       "    </tr>\n",
       "    <tr>\n",
       "      <th>6</th>\n",
       "      <td>Tatay Pepe's Tapsilogan - Altura [Available fo...</td>\n",
       "      <td>14.602741</td>\n",
       "      <td>121.010135</td>\n",
       "    </tr>\n",
       "    <tr>\n",
       "      <th>7</th>\n",
       "      <td>Chowking - QA Welcome Rotonda</td>\n",
       "      <td>14.618795</td>\n",
       "      <td>121.002419</td>\n",
       "    </tr>\n",
       "  </tbody>\n",
       "</table>\n",
       "</div>"
      ],
      "text/plain": [
       "                                                Name   latitude   longitude\n",
       "0                         Jollibee - Welcome Rotonda  14.618119  121.001749\n",
       "1               McDonald's - Sunmall Welcome Rotonda  14.617999  121.001393\n",
       "2                 Starbucks - Pacific Suites Dapitan  14.610519  120.986964\n",
       "3                      Burger King - Welcome Rotonda  14.618641  121.002216\n",
       "4  Subway - UST Campus [Available for LONG-DISTAN...  14.610538  120.990252\n",
       "5                        Tim Hortons - SM San Lazaro  14.619296  120.985358\n",
       "6  Tatay Pepe's Tapsilogan - Altura [Available fo...  14.602741  121.010135\n",
       "7                      Chowking - QA Welcome Rotonda  14.618795  121.002419"
      ]
     },
     "execution_count": 344,
     "metadata": {},
     "output_type": "execute_result"
    }
   ],
   "source": [
    "main_df.reset_index(drop=True)"
   ]
  },
  {
   "cell_type": "code",
   "execution_count": null,
   "id": "c3f00e7b-ede8-4ec0-8ba8-fd0a474519a6",
   "metadata": {},
   "outputs": [],
   "source": [
    "has_more = True\n",
    "while has_more == True:\n",
    "    df = get_restaurant_latlng(all_restaurants)\n",
    "    main_df = main_df.append(df)\n",
    "    \n",
    "    time.sleep(10)\n",
    "    try:\n",
    "        load_more(driver)\n",
    "    except:\n",
    "        has_more = False"
   ]
  },
  {
   "cell_type": "code",
   "execution_count": 345,
   "id": "814a56c6-d080-498e-a188-e30dd99b9ad6",
   "metadata": {},
   "outputs": [],
   "source": [
    "main_df.to_csv('restaurant_latlng.csv')"
   ]
  },
  {
   "cell_type": "code",
   "execution_count": null,
   "id": "370021f7-a6be-4093-95ec-dd32c5db80fa",
   "metadata": {},
   "outputs": [],
   "source": [
    "main_df.shape()"
   ]
  },
  {
   "cell_type": "code",
   "execution_count": 304,
   "id": "6056d675-14f1-42dd-af68-c97e18e0bbf5",
   "metadata": {},
   "outputs": [],
   "source": [
    "driver.quit()"
   ]
  },
  {
   "cell_type": "code",
   "execution_count": null,
   "id": "28bc1cb3-5579-4062-bfb7-e198ffcbbc64",
   "metadata": {},
   "outputs": [],
   "source": []
  }
 ],
 "metadata": {
  "kernelspec": {
   "display_name": "Python 3 (ipykernel)",
   "language": "python",
   "name": "python3"
  },
  "language_info": {
   "codemirror_mode": {
    "name": "ipython",
    "version": 3
   },
   "file_extension": ".py",
   "mimetype": "text/x-python",
   "name": "python",
   "nbconvert_exporter": "python",
   "pygments_lexer": "ipython3",
   "version": "3.8.9"
  }
 },
 "nbformat": 4,
 "nbformat_minor": 5
}
