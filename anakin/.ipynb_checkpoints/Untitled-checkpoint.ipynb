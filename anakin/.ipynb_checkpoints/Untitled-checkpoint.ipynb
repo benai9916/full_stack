{
 "cells": [
  {
   "cell_type": "code",
   "execution_count": 2,
   "id": "2e544ffa-6999-453a-9d83-f8f237f5d5c2",
   "metadata": {},
   "outputs": [],
   "source": [
    "import os\n",
    "import selenium\n",
    "from selenium import webdriver\n",
    "import time\n",
    "import io\n",
    "import requests\n",
    "from webdriver_manager.chrome import ChromeDriverManager\n",
    "from selenium.common.exceptions import ElementClickInterceptedException"
   ]
  },
  {
   "cell_type": "code",
   "execution_count": 50,
   "id": "4b3bfef6-567c-486f-858c-1b3f6bd7ad7a",
   "metadata": {},
   "outputs": [
    {
     "name": "stderr",
     "output_type": "stream",
     "text": [
      "\n",
      "\n",
      "====== WebDriver manager ======\n",
      "Current google-chrome version is 96.0.4664\n",
      "Get LATEST chromedriver version for 96.0.4664 google-chrome\n",
      "Driver [/Users/benai/.wdm/drivers/chromedriver/mac64/96.0.4664.45/chromedriver] found in cache\n"
     ]
    }
   ],
   "source": [
    "options = {'disable_encoding': True}\n",
    "\n",
    "# Create a new instance of the Chrome driver\n",
    "driver = webdriver.Chrome(ChromeDriverManager().install(),seleniumwire_options=options )"
   ]
  },
  {
   "cell_type": "code",
   "execution_count": 52,
   "id": "c31d613a-623c-4e50-a2d2-aa418bdc8d20",
   "metadata": {},
   "outputs": [
    {
     "name": "stderr",
     "output_type": "stream",
     "text": [
      "/var/folders/vy/z7v06lns2sqbyp09f_kg__j00000gn/T/ipykernel_71103/3085822.py:5: DeprecationWarning: find_element_by_* commands are deprecated. Please use find_element() instead\n",
      "  input_id = driver.find_element_by_id(\"location-input\").send_keys(\"pasay\")\n",
      "/var/folders/vy/z7v06lns2sqbyp09f_kg__j00000gn/T/ipykernel_71103/3085822.py:6: DeprecationWarning: find_element_by_* commands are deprecated. Please use find_element() instead\n",
      "  driver.find_element_by_css_selector(\"button.ant-btn\").click()\n"
     ]
    }
   ],
   "source": [
    "driver.get(\"https://food.grab.com/ph/en/\")\n",
    "\n",
    "# driver.execute_script(\"window.scrollTo(0, document.body.scrollHeight);\")\n",
    "\n",
    "input_id = driver.find_element_by_id(\"location-input\").send_keys(\"pasay\")\n",
    "driver.find_element_by_css_selector(\"button.ant-btn\").click()"
   ]
  },
  {
   "cell_type": "code",
   "execution_count": 78,
   "id": "edc420f2-8287-4242-b3cc-920331d520fd",
   "metadata": {},
   "outputs": [],
   "source": [
    "no = 0\n",
    "for j in range(len(driver.requests)):\n",
    "    if driver.requests[j].url == 'https://portal.grab.com/foodweb/v2/search':\n",
    "        no = j"
   ]
  },
  {
   "cell_type": "code",
   "execution_count": null,
   "id": "651db851-07bf-4efa-b727-8a8adcdd73f0",
   "metadata": {},
   "outputs": [],
   "source": [
    "driver.requests[no].response.body"
   ]
  },
  {
   "cell_type": "code",
   "execution_count": 83,
   "id": "e41f0180-0f68-4703-b83f-1c98f563c700",
   "metadata": {},
   "outputs": [
    {
     "name": "stderr",
     "output_type": "stream",
     "text": [
      "/var/folders/vy/z7v06lns2sqbyp09f_kg__j00000gn/T/ipykernel_71103/14731057.py:1: DeprecationWarning: find_element_by_* commands are deprecated. Please use find_element() instead\n",
      "  driver.find_element_by_css_selector(\"button.ant-btn\").click()\n"
     ]
    },
    {
     "name": "stdout",
     "output_type": "stream",
     "text": [
      "3\n"
     ]
    }
   ],
   "source": [
    "driver.find_element_by_css_selector(\"button.ant-btn\").click()\n",
    "no = 0\n",
    "for j in range(len(driver.requests)):\n",
    "    if driver.requests[j].url == 'https://portal.grab.com/foodweb/v2/search':\n",
    "        no += 1\n",
    "# driver.requests[no].response.body\n",
    "print(no)"
   ]
  },
  {
   "cell_type": "code",
   "execution_count": null,
   "id": "fbf9216e-6ede-4715-9843-a5a19bf9d58b",
   "metadata": {},
   "outputs": [],
   "source": []
  },
  {
   "cell_type": "code",
   "execution_count": null,
   "id": "5e8cc823-1a86-4dcf-a5d2-97a4aa751b77",
   "metadata": {},
   "outputs": [],
   "source": []
  },
  {
   "cell_type": "code",
   "execution_count": 101,
   "id": "44ce9dec-bd0d-4bea-a8b4-e00c71ba01c3",
   "metadata": {},
   "outputs": [
    {
     "ename": "AttributeError",
     "evalue": "'WebDriver' object has no attribute 'wait_for_request'",
     "output_type": "error",
     "traceback": [
      "\u001b[0;31m---------------------------------------------------------------------------\u001b[0m",
      "\u001b[0;31mAttributeError\u001b[0m                            Traceback (most recent call last)",
      "\u001b[0;32m/var/folders/vy/z7v06lns2sqbyp09f_kg__j00000gn/T/ipykernel_69331/538539092.py\u001b[0m in \u001b[0;36m<module>\u001b[0;34m\u001b[0m\n\u001b[0;32m----> 1\u001b[0;31m \u001b[0mreq\u001b[0m \u001b[0;34m=\u001b[0m \u001b[0mdriver\u001b[0m\u001b[0;34m.\u001b[0m\u001b[0mwait_for_request\u001b[0m\u001b[0;34m(\u001b[0m\u001b[0;34m'https://portal.grab.com/foodweb/v2/search'\u001b[0m\u001b[0;34m)\u001b[0m\u001b[0;34m\u001b[0m\u001b[0;34m\u001b[0m\u001b[0m\n\u001b[0m\u001b[1;32m      2\u001b[0m \u001b[0mreq\u001b[0m\u001b[0;34m\u001b[0m\u001b[0;34m\u001b[0m\u001b[0m\n",
      "\u001b[0;31mAttributeError\u001b[0m: 'WebDriver' object has no attribute 'wait_for_request'"
     ]
    }
   ],
   "source": [
    "req = driver.wait_for_request('https://portal.grab.com/foodweb/v2/search')\n",
    "req"
   ]
  },
  {
   "cell_type": "code",
   "execution_count": 38,
   "id": "994b965b-9ac2-49d2-8d22-55372c09c930",
   "metadata": {},
   "outputs": [],
   "source": [
    "from selenium.webdriver.common.keys import Keys"
   ]
  },
  {
   "cell_type": "code",
   "execution_count": 39,
   "id": "8cb27576-e4fe-4f10-a240-612a3d59d8ab",
   "metadata": {},
   "outputs": [
    {
     "ename": "AttributeError",
     "evalue": "type object 'Keys' has no attribute 'chord'",
     "output_type": "error",
     "traceback": [
      "\u001b[0;31m---------------------------------------------------------------------------\u001b[0m",
      "\u001b[0;31mAttributeError\u001b[0m                            Traceback (most recent call last)",
      "\u001b[0;32m/var/folders/vy/z7v06lns2sqbyp09f_kg__j00000gn/T/ipykernel_69331/1117078665.py\u001b[0m in \u001b[0;36m<module>\u001b[0;34m\u001b[0m\n\u001b[0;32m----> 1\u001b[0;31m \u001b[0mKeys\u001b[0m\u001b[0;34m.\u001b[0m\u001b[0mchord\u001b[0m\u001b[0;34m(\u001b[0m\u001b[0mKeys\u001b[0m\u001b[0;34m.\u001b[0m\u001b[0mALT\u001b[0m\u001b[0;34m,\u001b[0m \u001b[0mKeys\u001b[0m\u001b[0;34m.\u001b[0m\u001b[0mCONTROL\u001b[0m\u001b[0;34m,\u001b[0m \u001b[0;34m\"i\"\u001b[0m\u001b[0;34m)\u001b[0m\u001b[0;34m;\u001b[0m\u001b[0;34m\u001b[0m\u001b[0;34m\u001b[0m\u001b[0m\n\u001b[0m",
      "\u001b[0;31mAttributeError\u001b[0m: type object 'Keys' has no attribute 'chord'"
     ]
    }
   ],
   "source": [
    "Keys.chord(Keys.ALT, Keys.CONTROL, \"i\");"
   ]
  },
  {
   "cell_type": "code",
   "execution_count": 40,
   "id": "46c2470c-c1c0-4084-a65d-6f1904e32264",
   "metadata": {},
   "outputs": [],
   "source": [
    "from selenium.webdriver.chrome.options import Options"
   ]
  },
  {
   "cell_type": "code",
   "execution_count": 96,
   "id": "5dffb2f9-961e-4861-8b2a-03f5efb29475",
   "metadata": {},
   "outputs": [],
   "source": [
    "timings = driver.execute_script(\"return window.performance.getEntries();\")\n",
    "# timings"
   ]
  },
  {
   "cell_type": "code",
   "execution_count": 49,
   "id": "e84dfab3-65e6-4f86-8f30-063b19cf2812",
   "metadata": {},
   "outputs": [],
   "source": [
    "driver.quit()"
   ]
  },
  {
   "cell_type": "code",
   "execution_count": 100,
   "id": "6b46ecb8-f4d6-4133-9dea-46310311c1d7",
   "metadata": {},
   "outputs": [
    {
     "name": "stdout",
     "output_type": "stream",
     "text": [
      "{'connectEnd': 2.5, 'connectStart': 2.5, 'decodedBodySize': 217342, 'domComplete': 2221.7999999523163, 'domContentLoadedEventEnd': 835.7000000476837, 'domContentLoadedEventStart': 835.5999999046326, 'domInteractive': 834.0999999046326, 'domainLookupEnd': 2.5, 'domainLookupStart': 2.5, 'duration': 2223, 'encodedBodySize': 43134, 'entryType': 'navigation', 'fetchStart': 2.5, 'initiatorType': 'navigation', 'loadEventEnd': 2223, 'loadEventStart': 2221.899999856949, 'name': 'https://food.grab.com/ph/en/', 'nextHopProtocol': 'h2', 'redirectCount': 0, 'redirectEnd': 0, 'redirectStart': 0, 'requestStart': 9.5, 'responseEnd': 711.7999999523163, 'responseStart': 666.5, 'secureConnectionStart': 2.5, 'serverTiming': [], 'startTime': 0, 'transferSize': 43434, 'type': 'reload', 'unloadEventEnd': 690.2999999523163, 'unloadEventStart': 689.5999999046326, 'workerStart': 0, 'workerTiming': []}\n"
     ]
    },
    {
     "ename": "KeyError",
     "evalue": "'message'",
     "output_type": "error",
     "traceback": [
      "\u001b[0;31m---------------------------------------------------------------------------\u001b[0m",
      "\u001b[0;31mKeyError\u001b[0m                                  Traceback (most recent call last)",
      "\u001b[0;32m/var/folders/vy/z7v06lns2sqbyp09f_kg__j00000gn/T/ipykernel_69331/4190091546.py\u001b[0m in \u001b[0;36m<module>\u001b[0;34m\u001b[0m\n\u001b[1;32m     17\u001b[0m \u001b[0;34m\u001b[0m\u001b[0m\n\u001b[1;32m     18\u001b[0m \u001b[0;31m# logs = driver.get_log('performance')\u001b[0m\u001b[0;34m\u001b[0m\u001b[0;34m\u001b[0m\u001b[0;34m\u001b[0m\u001b[0m\n\u001b[0;32m---> 19\u001b[0;31m \u001b[0mresponses\u001b[0m \u001b[0;34m=\u001b[0m \u001b[0;34m[\u001b[0m\u001b[0mprocessLog\u001b[0m\u001b[0;34m(\u001b[0m\u001b[0mlog\u001b[0m\u001b[0;34m)\u001b[0m \u001b[0;32mfor\u001b[0m \u001b[0mlog\u001b[0m \u001b[0;32min\u001b[0m \u001b[0mtimings\u001b[0m\u001b[0;34m]\u001b[0m\u001b[0;34m\u001b[0m\u001b[0;34m\u001b[0m\u001b[0m\n\u001b[0m",
      "\u001b[0;32m/var/folders/vy/z7v06lns2sqbyp09f_kg__j00000gn/T/ipykernel_69331/4190091546.py\u001b[0m in \u001b[0;36m<listcomp>\u001b[0;34m(.0)\u001b[0m\n\u001b[1;32m     17\u001b[0m \u001b[0;34m\u001b[0m\u001b[0m\n\u001b[1;32m     18\u001b[0m \u001b[0;31m# logs = driver.get_log('performance')\u001b[0m\u001b[0;34m\u001b[0m\u001b[0;34m\u001b[0m\u001b[0;34m\u001b[0m\u001b[0m\n\u001b[0;32m---> 19\u001b[0;31m \u001b[0mresponses\u001b[0m \u001b[0;34m=\u001b[0m \u001b[0;34m[\u001b[0m\u001b[0mprocessLog\u001b[0m\u001b[0;34m(\u001b[0m\u001b[0mlog\u001b[0m\u001b[0;34m)\u001b[0m \u001b[0;32mfor\u001b[0m \u001b[0mlog\u001b[0m \u001b[0;32min\u001b[0m \u001b[0mtimings\u001b[0m\u001b[0;34m]\u001b[0m\u001b[0;34m\u001b[0m\u001b[0;34m\u001b[0m\u001b[0m\n\u001b[0m",
      "\u001b[0;32m/var/folders/vy/z7v06lns2sqbyp09f_kg__j00000gn/T/ipykernel_69331/4190091546.py\u001b[0m in \u001b[0;36mprocessLog\u001b[0;34m(log)\u001b[0m\n\u001b[1;32m     10\u001b[0m \u001b[0;32mdef\u001b[0m \u001b[0mprocessLog\u001b[0m\u001b[0;34m(\u001b[0m\u001b[0mlog\u001b[0m\u001b[0;34m)\u001b[0m\u001b[0;34m:\u001b[0m\u001b[0;34m\u001b[0m\u001b[0;34m\u001b[0m\u001b[0m\n\u001b[1;32m     11\u001b[0m     \u001b[0mprint\u001b[0m\u001b[0;34m(\u001b[0m\u001b[0mlog\u001b[0m\u001b[0;34m)\u001b[0m\u001b[0;34m\u001b[0m\u001b[0;34m\u001b[0m\u001b[0m\n\u001b[0;32m---> 12\u001b[0;31m     \u001b[0mlog\u001b[0m \u001b[0;34m=\u001b[0m \u001b[0mjson\u001b[0m\u001b[0;34m.\u001b[0m\u001b[0mloads\u001b[0m\u001b[0;34m(\u001b[0m\u001b[0mlog\u001b[0m\u001b[0;34m[\u001b[0m\u001b[0;34m\"message\"\u001b[0m\u001b[0;34m]\u001b[0m\u001b[0;34m)\u001b[0m\u001b[0;34m[\u001b[0m\u001b[0;34m\"message\"\u001b[0m\u001b[0;34m]\u001b[0m\u001b[0;34m\u001b[0m\u001b[0;34m\u001b[0m\u001b[0m\n\u001b[0m\u001b[1;32m     13\u001b[0m     \u001b[0;32mif\u001b[0m \u001b[0;34m(\u001b[0m\u001b[0;34m\"Network.responseReceived\"\u001b[0m \u001b[0;32min\u001b[0m \u001b[0mlog\u001b[0m\u001b[0;34m[\u001b[0m\u001b[0;34m\"method\"\u001b[0m\u001b[0;34m]\u001b[0m \u001b[0;32mand\u001b[0m \u001b[0;34m\"params\"\u001b[0m \u001b[0;32min\u001b[0m \u001b[0mlog\u001b[0m\u001b[0;34m.\u001b[0m\u001b[0mkeys\u001b[0m\u001b[0;34m(\u001b[0m\u001b[0;34m)\u001b[0m\u001b[0;34m)\u001b[0m\u001b[0;34m:\u001b[0m\u001b[0;34m\u001b[0m\u001b[0;34m\u001b[0m\u001b[0m\n\u001b[1;32m     14\u001b[0m            body = driver.execute_cdp_cmd('Network.getResponseBody', {\n",
      "\u001b[0;31mKeyError\u001b[0m: 'message'"
     ]
    }
   ],
   "source": [
    "import json\n",
    "import selenium.webdriver.common.desired_capabilities\n",
    "\n",
    "options = webdriver.ChromeOptions()\n",
    "options.add_argument(\"--headless\")\n",
    "options.add_argument(\"--disable-gpu\")\n",
    "\n",
    "capabilities = options.to_capabilities()\n",
    "\n",
    "def processLog(log):\n",
    "    print(log)\n",
    "    log = json.loads(log[\"message\"])[\"message\"]\n",
    "    if (\"Network.responseReceived\" in log[\"method\"] and \"params\" in log.keys()):\n",
    "           body = driver.execute_cdp_cmd('Network.getResponseBody', {\n",
    "      'requestId': log[\"params\"][\"requestId\"]\n",
    "       })\n",
    "\n",
    "# logs = driver.get_log('performance')\n",
    "responses = [processLog(log) for log in timings]"
   ]
  },
  {
   "cell_type": "code",
   "execution_count": null,
   "id": "407e4316-c1e1-4ce3-9256-921954e0dbdf",
   "metadata": {},
   "outputs": [],
   "source": []
  },
  {
   "cell_type": "code",
   "execution_count": 19,
   "id": "523d9625-0e0d-4706-934b-976b3086e9b6",
   "metadata": {},
   "outputs": [],
   "source": [
    "driver.quit()"
   ]
  },
  {
   "cell_type": "code",
   "execution_count": null,
   "id": "60a21d47-f84e-45ec-8605-91b107a97f8d",
   "metadata": {},
   "outputs": [],
   "source": []
  },
  {
   "cell_type": "code",
   "execution_count": 20,
   "id": "b13f80cb-1f9e-4cbe-b601-05efcad4db68",
   "metadata": {},
   "outputs": [
    {
     "name": "stderr",
     "output_type": "stream",
     "text": [
      "\n",
      "\n",
      "====== WebDriver manager ======\n",
      "Current google-chrome version is 96.0.4664\n",
      "Get LATEST chromedriver version for 96.0.4664 google-chrome\n",
      "Driver [/Users/benai/.wdm/drivers/chromedriver/mac64/96.0.4664.45/chromedriver] found in cache\n"
     ]
    }
   ],
   "source": [
    "from seleniumwire import webdriver  # Import from seleniumwire\n",
    "\n",
    "options = {'disable_encoding': True}\n",
    "\n",
    "# Create a new instance of the Chrome driver\n",
    "driver = webdriver.Chrome(ChromeDriverManager().install(),seleniumwire_options=options )\n",
    "\n",
    "# Go to the Google home page\n",
    "driver.get(\"https://food.grab.com/ph/en/\")"
   ]
  },
  {
   "cell_type": "code",
   "execution_count": 21,
   "id": "b742187f-bc93-4662-8167-f0a51ad47ca4",
   "metadata": {},
   "outputs": [
    {
     "name": "stderr",
     "output_type": "stream",
     "text": [
      "/var/folders/vy/z7v06lns2sqbyp09f_kg__j00000gn/T/ipykernel_71103/1529454153.py:1: DeprecationWarning: find_element_by_* commands are deprecated. Please use find_element() instead\n",
      "  input_id = driver.find_element_by_id(\"location-input\").send_keys(\"pasay\")\n",
      "/var/folders/vy/z7v06lns2sqbyp09f_kg__j00000gn/T/ipykernel_71103/1529454153.py:2: DeprecationWarning: find_element_by_* commands are deprecated. Please use find_element() instead\n",
      "  driver.find_element_by_css_selector(\"button.ant-btn\").click()\n"
     ]
    }
   ],
   "source": [
    "input_id = driver.find_element_by_id(\"location-input\").send_keys(\"pasay\")\n",
    "driver.find_element_by_css_selector(\"button.ant-btn\").click()"
   ]
  },
  {
   "cell_type": "code",
   "execution_count": 22,
   "id": "93c19a60-0d6b-45cb-805d-adfccc2b9ba4",
   "metadata": {},
   "outputs": [
    {
     "data": {
      "text/plain": [
       "Request(method='POST', url='https://portal.grab.com/foodweb/v2/search', headers=[('content-length', '86'), ('sec-ch-ua', '\" Not A;Brand\";v=\"99\", \"Chromium\";v=\"96\", \"Google Chrome\";v=\"96\"'), ('accept-language', 'en'), ('sec-ch-ua-mobile', '?0'), ('user-agent', 'Mozilla/5.0 (Macintosh; Intel Mac OS X 10_15_7) AppleWebKit/537.36 (KHTML, like Gecko) Chrome/96.0.4664.55 Safari/537.36'), ('content-type', 'application/json;charset=UTF-8'), ('accept', 'application/json, text/plain, */*'), ('x-recaptcha-token', '03AGdBq27Tj5STXlMtiNBpDkwJkgyPWTMmuEtkCCHv-_5MAhp724vPGIdbVMnWs2dgqCNrdzdZA-Iq3dGiBtG8fjE32jctAGKQQPVjQDc5D-Qs_V9DchOkp5xkO7XME7uvDJKaIaX68xRU8MBCuasxPwDYizavL9vhNQ-fuiciSzU4k6HMth1Bu7Euf2H0W-XP1X30w4KN-cN-BTMUY_tA3EMKZTZex8uWCR97Qehdn37ffa0q4FjFmrtUI_FHF9SNx8fi2v9afwosqmOvmn1_1Y6Z2cSHTl3tuoyMje_nzIWvCbUGy_OS-iaYozhHBguZpHV2PECWr0CJRBz5rYRiOcD8-wqDFnKyxKANoHExdCwkunQN6IXBP0s9I7WgP_ImvrRujEt9aJArqneXaMht18J7jwp-2bV_-l4P_7hDvyaA9GvR-GEI2w2TMyG4iHXxijpw4zg-tkHJ'), ('x-country-code', 'PH'), ('x-grab-web-app-version', '2TdbnU149~eYASpL~ZQRj'), ('x-gfc-country', 'PH'), ('sec-ch-ua-platform', '\"macOS\"'), ('origin', 'https://food.grab.com'), ('sec-fetch-site', 'same-site'), ('sec-fetch-mode', 'cors'), ('sec-fetch-dest', 'empty'), ('referer', 'https://food.grab.com/'), ('accept-encoding', 'gzip, deflate, br')], body=b'{\"latlng\":\"14.5995,120.9842\",\"keyword\":\"\",\"offset\":0,\"pageSize\":32,\"countryCode\":\"PH\"}')"
      ]
     },
     "execution_count": 22,
     "metadata": {},
     "output_type": "execute_result"
    }
   ],
   "source": [
    "# Access requests via the `requests` attribute\n",
    "request = driver.wait_for_request('/foodweb/v2/search')\n",
    "request"
   ]
  },
  {
   "cell_type": "code",
   "execution_count": 47,
   "id": "d3017df2-aaf0-4078-b374-69492e24c160",
   "metadata": {},
   "outputs": [
    {
     "data": {
      "text/plain": [
       "Request(method='GET', url='https://portal.grab.com/foodweb/v2/recommended/merchants?latitude=14.5995&longitude=120.9842&mode=&offset=0&countryCode=PH', headers=[('sec-ch-ua', '\" Not A;Brand\";v=\"99\", \"Chromium\";v=\"96\", \"Google Chrome\";v=\"96\"'), ('accept-language', 'en'), ('sec-ch-ua-mobile', '?0'), ('user-agent', 'Mozilla/5.0 (Macintosh; Intel Mac OS X 10_15_7) AppleWebKit/537.36 (KHTML, like Gecko) Chrome/96.0.4664.55 Safari/537.36'), ('accept', 'application/json, text/plain, */*'), ('x-country-code', 'PH'), ('x-grab-web-app-version', '2TdbnU149~eYASpL~ZQRj'), ('x-gfc-country', 'PH'), ('sec-ch-ua-platform', '\"macOS\"'), ('origin', 'https://food.grab.com'), ('sec-fetch-site', 'same-site'), ('sec-fetch-mode', 'cors'), ('sec-fetch-dest', 'empty'), ('referer', 'https://food.grab.com/'), ('accept-encoding', 'gzip, deflate, br')], body=b'')"
      ]
     },
     "execution_count": 47,
     "metadata": {},
     "output_type": "execute_result"
    }
   ],
   "source": [
    "request1 = driver.wait_for_request('https://portal.grab.com/foodweb/v2/recommended/merchants')\n",
    "request1"
   ]
  },
  {
   "cell_type": "code",
   "execution_count": null,
   "id": "35141485-5c45-419f-be9a-c27e91ef05e0",
   "metadata": {},
   "outputs": [],
   "source": [
    "res1 = request1.response\n",
    "res1"
   ]
  },
  {
   "cell_type": "code",
   "execution_count": 23,
   "id": "4b1d27ad-e2d9-4884-b00c-72248a6b6965",
   "metadata": {},
   "outputs": [],
   "source": [
    "res = request.response"
   ]
  },
  {
   "cell_type": "code",
   "execution_count": null,
   "id": "ce739493-3c01-4223-801e-612b2ea3ac4d",
   "metadata": {},
   "outputs": [],
   "source": [
    "from seleniumwire.utils import decode\n",
    "\n",
    "body = decode(res.body, res.headers.get('Content-Encoding', 'identity'))\n",
    "body"
   ]
  },
  {
   "cell_type": "code",
   "execution_count": 124,
   "id": "63cc5ef6-1dca-4702-9e7b-a04831928c50",
   "metadata": {},
   "outputs": [
    {
     "ename": "NameError",
     "evalue": "name 'response' is not defined",
     "output_type": "error",
     "traceback": [
      "\u001b[0;31m---------------------------------------------------------------------------\u001b[0m",
      "\u001b[0;31mNameError\u001b[0m                                 Traceback (most recent call last)",
      "\u001b[0;32m/var/folders/vy/z7v06lns2sqbyp09f_kg__j00000gn/T/ipykernel_69331/1155631002.py\u001b[0m in \u001b[0;36m<module>\u001b[0;34m\u001b[0m\n\u001b[1;32m      1\u001b[0m \u001b[0;32mfrom\u001b[0m \u001b[0mseleniumwire\u001b[0m\u001b[0;34m.\u001b[0m\u001b[0mutils\u001b[0m \u001b[0;32mimport\u001b[0m \u001b[0mdecode\u001b[0m\u001b[0;34m\u001b[0m\u001b[0;34m\u001b[0m\u001b[0m\n\u001b[1;32m      2\u001b[0m \u001b[0;34m\u001b[0m\u001b[0m\n\u001b[0;32m----> 3\u001b[0;31m \u001b[0mbody\u001b[0m \u001b[0;34m=\u001b[0m \u001b[0mdecode\u001b[0m\u001b[0;34m(\u001b[0m\u001b[0mresponse\u001b[0m\u001b[0;34m.\u001b[0m\u001b[0mbody\u001b[0m\u001b[0;34m,\u001b[0m \u001b[0mresponse\u001b[0m\u001b[0;34m.\u001b[0m\u001b[0mheaders\u001b[0m\u001b[0;34m.\u001b[0m\u001b[0mget\u001b[0m\u001b[0;34m(\u001b[0m\u001b[0;34m'Content-Encoding'\u001b[0m\u001b[0;34m,\u001b[0m \u001b[0;34m'identity'\u001b[0m\u001b[0;34m)\u001b[0m\u001b[0;34m)\u001b[0m\u001b[0;34m\u001b[0m\u001b[0;34m\u001b[0m\u001b[0m\n\u001b[0m\u001b[1;32m      4\u001b[0m \u001b[0mbody\u001b[0m\u001b[0;34m\u001b[0m\u001b[0;34m\u001b[0m\u001b[0m\n",
      "\u001b[0;31mNameError\u001b[0m: name 'response' is not defined"
     ]
    }
   ],
   "source": [
    "from seleniumwire.utils import decode\n",
    "\n",
    "body = decode(response.body, response.headers.get('Content-Encoding', 'identity'))\n",
    "body"
   ]
  },
  {
   "cell_type": "code",
   "execution_count": 46,
   "id": "a4e9adde-53d0-4339-bce1-0ff0f57425ad",
   "metadata": {},
   "outputs": [
    {
     "data": {
      "text/plain": [
       "dict_keys(['searchID', 'totalCount', 'searchMerchants', 'requestID', 'offset', 'hasMore', 'dataTrackingInfo'])"
      ]
     },
     "execution_count": 46,
     "metadata": {},
     "output_type": "execute_result"
    }
   ],
   "source": [
    "import json\n",
    "import ast\n",
    "\n",
    "final = json.loads(body.decode(\"utf-8\"))\n",
    "\n",
    "final['searchResult'].keys()\n",
    "\n",
    "# print(ast.literal_eval(body.decode(\"utf-8\")))"
   ]
  },
  {
   "cell_type": "code",
   "execution_count": null,
   "id": "f0eeea36-9ed7-4643-a75f-c7b38f3e4927",
   "metadata": {},
   "outputs": [],
   "source": []
  },
  {
   "cell_type": "code",
   "execution_count": 143,
   "id": "f48f4101-3cda-4d12-962b-8ad0310453fd",
   "metadata": {},
   "outputs": [],
   "source": [
    "driver.quit()"
   ]
  },
  {
   "cell_type": "code",
   "execution_count": null,
   "id": "8c1c31ac-b6c2-4a33-b215-9536aa836235",
   "metadata": {},
   "outputs": [],
   "source": []
  }
 ],
 "metadata": {
  "kernelspec": {
   "display_name": "Python 3 (ipykernel)",
   "language": "python",
   "name": "python3"
  },
  "language_info": {
   "codemirror_mode": {
    "name": "ipython",
    "version": 3
   },
   "file_extension": ".py",
   "mimetype": "text/x-python",
   "name": "python",
   "nbconvert_exporter": "python",
   "pygments_lexer": "ipython3",
   "version": "3.8.9"
  }
 },
 "nbformat": 4,
 "nbformat_minor": 5
}
