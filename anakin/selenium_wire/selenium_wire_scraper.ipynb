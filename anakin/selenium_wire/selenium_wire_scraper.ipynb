{
 "cells": [
  {
   "cell_type": "code",
   "execution_count": 2,
   "id": "a01951ca-0593-4644-a4d1-d05fe3bdb5b4",
   "metadata": {},
   "outputs": [],
   "source": [
    "import json\n",
    "import time\n",
    "import pandas as pd\n",
    "from seleniumwire.utils import decode\n",
    "from seleniumwire import webdriver\n",
    "from webdriver_manager.chrome import ChromeDriverManager"
   ]
  },
  {
   "cell_type": "code",
   "execution_count": 3,
   "id": "76a2c4ce-1129-41c2-87ae-b273b758dd1b",
   "metadata": {},
   "outputs": [],
   "source": [
    "def load():\n",
    "    options = {'disable_encoding': True}\n",
    "\n",
    "    # Create a new instance of the Chrome driver\n",
    "    driver = webdriver.Chrome(ChromeDriverManager().install(),seleniumwire_options=options )\n",
    "\n",
    "    # Go to the Google home page\n",
    "    driver.get(\"https://food.grab.com/ph/en/\")\n",
    "    return driver"
   ]
  },
  {
   "cell_type": "code",
   "execution_count": 4,
   "id": "39853b45-927e-4161-820f-bb54277dbcca",
   "metadata": {},
   "outputs": [
    {
     "name": "stderr",
     "output_type": "stream",
     "text": [
      "\n",
      "\n",
      "====== WebDriver manager ======\n",
      "Current google-chrome version is 98.0.4758\n",
      "Get LATEST chromedriver version for 98.0.4758 google-chrome\n",
      "Driver [/Users/benai/.wdm/drivers/chromedriver/mac64/98.0.4758.102/chromedriver] found in cache\n"
     ]
    }
   ],
   "source": [
    "driver = load()"
   ]
  },
  {
   "cell_type": "code",
   "execution_count": 15,
   "id": "cd8444e6-5529-4f94-8792-10aed5b67309",
   "metadata": {},
   "outputs": [
    {
     "name": "stderr",
     "output_type": "stream",
     "text": [
      "/var/folders/c5/2p16_3w12w3f3_l7r1l9m2800000gn/T/ipykernel_1094/4288699930.py:2: DeprecationWarning: find_element_by_* commands are deprecated. Please use find_element() instead\n",
      "  driver.find_element_by_id(\"location-input\").send_keys(\"pasay\")\n"
     ]
    }
   ],
   "source": [
    "driver"
   ]
  },
  {
   "cell_type": "code",
   "execution_count": 6,
   "id": "b5da8009-0aa1-4a67-a28e-c0e3a455f55f",
   "metadata": {},
   "outputs": [],
   "source": [
    "def load_more(driver):\n",
    "    return driver.find_element_by_css_selector(\"button.ant-btn\").click()"
   ]
  },
  {
   "cell_type": "code",
   "execution_count": 7,
   "id": "54795f75-4500-4393-a2ed-e8186aa9906b",
   "metadata": {},
   "outputs": [
    {
     "name": "stderr",
     "output_type": "stream",
     "text": [
      "/var/folders/c5/2p16_3w12w3f3_l7r1l9m2800000gn/T/ipykernel_1094/1415324294.py:1: DeprecationWarning: find_element_by_* commands are deprecated. Please use find_element() instead\n",
      "  input_id = driver.find_element_by_id(\"location-input\").send_keys(\"pasay\")\n",
      "/var/folders/c5/2p16_3w12w3f3_l7r1l9m2800000gn/T/ipykernel_1094/2217644237.py:2: DeprecationWarning: find_element_by_* commands are deprecated. Please use find_element() instead\n",
      "  return driver.find_element_by_css_selector(\"button.ant-btn\").click()\n"
     ]
    }
   ],
   "source": [
    "input_id = driver.find_element_by_id(\"location-input\").send_keys(\"pasay\")\n",
    "load_more(driver)"
   ]
  },
  {
   "cell_type": "code",
   "execution_count": 8,
   "id": "983147d8-32df-44fd-bc21-021685e82274",
   "metadata": {},
   "outputs": [],
   "source": [
    "main_df = pd.DataFrame()"
   ]
  },
  {
   "cell_type": "code",
   "execution_count": 9,
   "id": "c251fc63-2f19-4d1b-92b1-4bc1dc2dd70d",
   "metadata": {},
   "outputs": [],
   "source": [
    "def get_body(request):\n",
    "    response = request.response\n",
    "    body_byte = decode(response.body, response.headers.get('Content-Encoding', 'identity'))\n",
    "    body_dict = json.loads(body_byte.decode(\"utf-8\"))\n",
    "    return body_dict"
   ]
  },
  {
   "cell_type": "code",
   "execution_count": 10,
   "id": "d0a12c97-c27d-4784-9c1c-f0b717b1682a",
   "metadata": {},
   "outputs": [],
   "source": [
    "def get_popular_restaurant_latlng(popular_restaurants):\n",
    "    body = get_body(popular_restaurants)\n",
    "    \n",
    "    name = []\n",
    "    lat = []\n",
    "    lng = []\n",
    "    \n",
    "    for i in range(len(body['recommendedMerchantGroups'][0]['recommendedMerchants'])):\n",
    "        lat.append(body['recommendedMerchantGroups'][0]['recommendedMerchants'][i]['latlng']['latitude'])\n",
    "        lng.append(body['recommendedMerchantGroups'][0]['recommendedMerchants'][i]['latlng']['longitude'])\n",
    "        name.append(body['recommendedMerchantGroups'][0]['recommendedMerchants'][i]['address']['name'])\n",
    "    \n",
    "    df = pd.DataFrame(list(zip(name, lat, lng)), columns=['Name','latitude','longitude'])\n",
    "    return df"
   ]
  },
  {
   "cell_type": "code",
   "execution_count": 11,
   "id": "254bcb34-6f31-4f21-9644-78816b000d64",
   "metadata": {},
   "outputs": [],
   "source": [
    "def get_restaurant_latlng(all_restaurants):\n",
    "    res_body = get_body(all_restaurants)\n",
    "    \n",
    "    name = []\n",
    "    lat = []\n",
    "    lng = []\n",
    "    \n",
    "    for i in range(len(res_body['searchResult']['searchMerchants'])):\n",
    "        lat.append(res_body['searchResult']['searchMerchants'][i]['latlng']['latitude'])\n",
    "        lng.append(res_body['searchResult']['searchMerchants'][i]['latlng']['longitude'])\n",
    "        name.append(res_body['searchResult']['searchMerchants'][i]['address']['name'])\n",
    "    \n",
    "    df = pd.DataFrame(list(zip(name, lat, lng)), columns=['Name','latitude','longitude'])\n",
    "    return df"
   ]
  },
  {
   "cell_type": "code",
   "execution_count": 12,
   "id": "54157f90-8d8d-4a13-bc93-f3362b940cdd",
   "metadata": {},
   "outputs": [],
   "source": [
    "all_restaurants = driver.wait_for_request('/foodweb/v2/search')\n",
    "popular_restaurants = driver.wait_for_request('https://portal.grab.com/foodweb/v2/recommended/merchants')"
   ]
  },
  {
   "cell_type": "code",
   "execution_count": null,
   "id": "d723a29d-ffe9-4d05-8c78-63657a96db31",
   "metadata": {},
   "outputs": [],
   "source": []
  },
  {
   "cell_type": "code",
   "execution_count": 13,
   "id": "a892d4dc-a373-4166-85f5-a1b574ae54d0",
   "metadata": {},
   "outputs": [],
   "source": [
    "main_df = main_df.append(get_popular_restaurant_latlng(popular_restaurants))"
   ]
  },
  {
   "cell_type": "code",
   "execution_count": 14,
   "id": "bf6a2324-984c-4706-8e87-fb9b71e94efd",
   "metadata": {},
   "outputs": [
    {
     "data": {
      "text/html": [
       "<div>\n",
       "<style scoped>\n",
       "    .dataframe tbody tr th:only-of-type {\n",
       "        vertical-align: middle;\n",
       "    }\n",
       "\n",
       "    .dataframe tbody tr th {\n",
       "        vertical-align: top;\n",
       "    }\n",
       "\n",
       "    .dataframe thead th {\n",
       "        text-align: right;\n",
       "    }\n",
       "</style>\n",
       "<table border=\"1\" class=\"dataframe\">\n",
       "  <thead>\n",
       "    <tr style=\"text-align: right;\">\n",
       "      <th></th>\n",
       "      <th>Name</th>\n",
       "      <th>latitude</th>\n",
       "      <th>longitude</th>\n",
       "    </tr>\n",
       "  </thead>\n",
       "  <tbody>\n",
       "    <tr>\n",
       "      <th>0</th>\n",
       "      <td>Jollibee - G. Tuazon-Balic Balic</td>\n",
       "      <td>14.606886</td>\n",
       "      <td>121.003053</td>\n",
       "    </tr>\n",
       "    <tr>\n",
       "      <th>1</th>\n",
       "      <td>McDonald's - Governor Forbes</td>\n",
       "      <td>14.612865</td>\n",
       "      <td>120.989831</td>\n",
       "    </tr>\n",
       "    <tr>\n",
       "      <th>2</th>\n",
       "      <td>Wendy's - Dapitan [Available for LONG-DISTANCE...</td>\n",
       "      <td>14.611880</td>\n",
       "      <td>120.988455</td>\n",
       "    </tr>\n",
       "    <tr>\n",
       "      <th>3</th>\n",
       "      <td>Chowking - Pureza</td>\n",
       "      <td>14.601538</td>\n",
       "      <td>121.004724</td>\n",
       "    </tr>\n",
       "    <tr>\n",
       "      <th>4</th>\n",
       "      <td>WOW Shawarma - Cristobal Street</td>\n",
       "      <td>14.612964</td>\n",
       "      <td>120.994894</td>\n",
       "    </tr>\n",
       "    <tr>\n",
       "      <th>5</th>\n",
       "      <td>KFC - Nagtahan</td>\n",
       "      <td>14.600148</td>\n",
       "      <td>120.999737</td>\n",
       "    </tr>\n",
       "    <tr>\n",
       "      <th>6</th>\n",
       "      <td>Greenwich - Kanlaon</td>\n",
       "      <td>14.618849</td>\n",
       "      <td>121.002357</td>\n",
       "    </tr>\n",
       "    <tr>\n",
       "      <th>7</th>\n",
       "      <td>Black Scoop Cafe - UST Dapitan-Dos Castillas [...</td>\n",
       "      <td>14.613180</td>\n",
       "      <td>120.990617</td>\n",
       "    </tr>\n",
       "  </tbody>\n",
       "</table>\n",
       "</div>"
      ],
      "text/plain": [
       "                                                Name   latitude   longitude\n",
       "0                   Jollibee - G. Tuazon-Balic Balic  14.606886  121.003053\n",
       "1                       McDonald's - Governor Forbes  14.612865  120.989831\n",
       "2  Wendy's - Dapitan [Available for LONG-DISTANCE...  14.611880  120.988455\n",
       "3                                  Chowking - Pureza  14.601538  121.004724\n",
       "4                    WOW Shawarma - Cristobal Street  14.612964  120.994894\n",
       "5                                     KFC - Nagtahan  14.600148  120.999737\n",
       "6                                Greenwich - Kanlaon  14.618849  121.002357\n",
       "7  Black Scoop Cafe - UST Dapitan-Dos Castillas [...  14.613180  120.990617"
      ]
     },
     "execution_count": 14,
     "metadata": {},
     "output_type": "execute_result"
    }
   ],
   "source": [
    "main_df.reset_index(drop=True)"
   ]
  },
  {
   "cell_type": "code",
   "execution_count": null,
   "id": "c3f00e7b-ede8-4ec0-8ba8-fd0a474519a6",
   "metadata": {},
   "outputs": [],
   "source": [
    "has_more = True\n",
    "while has_more == True:\n",
    "    df = get_restaurant_latlng(all_restaurants)\n",
    "    main_df = main_df.append(df)\n",
    "    \n",
    "    time.sleep(10)\n",
    "    try:\n",
    "        load_more(driver)\n",
    "    except:\n",
    "        has_more = False"
   ]
  },
  {
   "cell_type": "code",
   "execution_count": 345,
   "id": "814a56c6-d080-498e-a188-e30dd99b9ad6",
   "metadata": {},
   "outputs": [],
   "source": [
    "main_df.to_csv('restaurant_latlng.csv')"
   ]
  },
  {
   "cell_type": "code",
   "execution_count": null,
   "id": "370021f7-a6be-4093-95ec-dd32c5db80fa",
   "metadata": {},
   "outputs": [],
   "source": [
    "main_df.shape()"
   ]
  },
  {
   "cell_type": "code",
   "execution_count": 304,
   "id": "6056d675-14f1-42dd-af68-c97e18e0bbf5",
   "metadata": {},
   "outputs": [],
   "source": [
    "driver.quit()"
   ]
  },
  {
   "cell_type": "code",
   "execution_count": 16,
   "id": "28bc1cb3-5579-4062-bfb7-e198ffcbbc64",
   "metadata": {},
   "outputs": [],
   "source": [
    "def get_request_id(url):\n",
    "    req_id = 0\n",
    "    for logs in log:\n",
    "        log_json = json.loads(logs['message'])\n",
    "        if log_json['message']['method'] == 'Network.requestWillBeSentExtraInfo':\n",
    "            if ':path' in log_json['message']['params']['headers'].keys():\n",
    "                if log_json['message']['params']['headers'][':path'] == url:\n",
    "                    req_id = log_json['message']['params']['requestId']\n",
    "                    print(\"request id\", req_id)\n",
    "                    if len(req_id) < 10:\n",
    "                        return req_id"
   ]
  },
  {
   "cell_type": "code",
   "execution_count": null,
   "id": "81ce2591-c62a-4368-8e11-0ad4387fe51f",
   "metadata": {},
   "outputs": [],
   "source": []
  }
 ],
 "metadata": {
  "kernelspec": {
   "display_name": "Python 3 (ipykernel)",
   "language": "python",
   "name": "python3"
  },
  "language_info": {
   "codemirror_mode": {
    "name": "ipython",
    "version": 3
   },
   "file_extension": ".py",
   "mimetype": "text/x-python",
   "name": "python",
   "nbconvert_exporter": "python",
   "pygments_lexer": "ipython3",
   "version": "3.9.9"
  }
 },
 "nbformat": 4,
 "nbformat_minor": 5
}
